import numpy as np
from scipy.integrate import solve_ivp
from scipy.constants import e, m_e, c, epsilon_0
import matplotlib.pyplot as plt

drift_length_ode = 2.5 # m
N_particles = 10000 
lambda_laser = 266e-9
k_laser = 2 * np.pi / lambda_laser
gamma_ref = 1300 / 0.511
beta_ref = np.sqrt(1 - 1/gamma_ref**2)
sigma_eta0_rel = 1e-4
A_mod_over_sigma_eta0 = 10.0
A_mod = A_mod_over_sigma_eta0 * sigma_eta0_rel
B_hghg = 1. / A_mod_over_sigma_eta0
R56 = B_hghg / (k_laser * sigma_eta0_rel)
I_peak_avg = 1000.0
beam_radius = 65e-6*1.5
n0_avg = I_peak_avg / (e * c * np.pi * beam_radius**2)
N_harmonics_Ez = 30

# --- Step 0 & 1 & 2: 生成初始粒子分布 ---
eta0_particles = np.random.normal(0, sigma_eta0_rel, N_particles)
theta0_particles = np.random.uniform(0, 2 * np.pi, N_particles)
eta1_particles = eta0_particles + A_mod * np.sin(theta0_particles)
theta1_particles = theta0_particles
eta_init_ode = eta1_particles
theta_init_ode = (theta1_particles + k_laser * R56 * eta1_particles) % (2 * np.pi)
theta_init_ode = np.mod(theta_init_ode, 2 * np.pi)

# 初始状态向量 Y0 = [eta1, theta1, eta2, theta2, ...]
Y0 = np.zeros(2 * N_particles)
Y0[0::2] = eta_init_ode  # 能量在偶数索引
Y0[1::2] = theta_init_ode # 相位在奇数索引

# 定义 ODE 函数 dY/dz = F(z, Y) 
# 全局常量，或者作为参数传入 (但 solve_ivp 的 f(t,y) 格式固定)

Ez_const_factor = (2 * e * n0_avg) / (epsilon_0 * k_laser)
gamma_ref_sq = gamma_ref**2
eta_change_factor = -e / (gamma_ref * m_e * c**2)
theta_change_factor = k_laser / gamma_ref_sq




z_span = (0, drift_length_ode)
z_eval = np.linspace(z_span[0], z_span[1], 10000) # Fewer points for faster test
dz = z_eval[1] - z_eval[0]

def collective_ode(z, Y):
    dYdz = np.zeros_like(Y)
    current_eta = Y[0::2]
    current_theta = Y[1::2]

    # 聚束因子 b_n
    bn_array = np.zeros(N_harmonics_Ez)
    for n_h in range(1, N_harmonics_Ez + 1):
        bn_array[n_h-1] = np.mean(np.cos(n_h * current_theta))

    # 4.2 计算 Ez
    sum_terms_for_Ez = np.zeros(N_particles)
    for n_h in range(1, N_harmonics_Ez + 1):
        if bn_array[n_h-1] != 0 and n_h != 0:
            sum_terms_for_Ez += (bn_array[n_h-1] / n_h) * np.sin(n_h * current_theta)
    Ez_particles =- Ez_const_factor * sum_terms_for_Ez

    # 计算导数
    dYdz[0::2] = eta_change_factor * Ez_particles        # d(eta_i)/dz
    dYdz[1::2] = theta_change_factor * current_eta  # d(theta_i)/dz
    # beta_0 = np.sqrt(1 - 1/gamma_ref_sq)
    # gamma_current=current_eta*gamma_ref+gamma_ref

    # beta_current=np.sqrt(1-1/gamma_current**2)
    
    # dYdz[1::2] =k_laser*(beta_current-beta_0)/beta_0
    # 相位需要模2pi，但这应该在求解后处理，或者在每步中由求解器内部的小步长决定。
    # ODE求解器通常不直接处理周期性边界条件
    # 实际上，由于theta是角度，如果它超出[0, 2pi]，sin(n*theta)仍然有效，
    # 所以不立即取模可能在ODE求解过程中更好。
    return dYdz

# --- 漂移段模拟参数 ---

# z_eval = np.linspace(z_span[0], z_span[1], 100) # Points where solution is stored


print(f"Starting ODE solution for {N_particles} particles...")
# 可以选择不同的求解方法，'RK45' (默认), 'LSODA', 'BDF' (for stiff problems)
# 'atol' 和 'rtol' 控制精度
sol = solve_ivp(collective_ode, z_span, Y0, method='RK45', t_eval=z_eval, rtol=1e-4, atol=1e-7)
print("ODE solution finished.")

# --- 结果提取和可视化 ---
if sol.success:
    # sol.t 包含了 z_eval 的值
    # sol.y 是一个 (2*N_particles, len(z_eval)) 的数组
    eta_at_z_eval = sol.y[0::2, :]
    theta_at_z_eval_raw = sol.y[1::2, :]
    theta_at_z_eval = np.mod(theta_at_z_eval_raw, 2 * np.pi) # 现在处理周期性

    # 可视化初始和最终相空间
    eta_final_ode = eta_at_z_eval[:, -1]
    theta_final_ode = theta_at_z_eval[:, -1]
    n_mid=len(z_eval)//2
    theta_mid=theta_at_z_eval[:,n_mid]
    eta_mid=eta_at_z_eval[:,n_mid]
    plt.figure(figsize=(5, 12))
    plt.subplot(2, 1, 1)
    plt.plot(theta_init_ode / (2*np.pi), eta_init_ode / sigma_eta0_rel, '.', markersize=1, color='blue', alpha=0.7, label='Initial ')
    
    plt.plot( theta_mid / (2*np.pi), eta_mid / sigma_eta0_rel, '.', markersize=1, color='green', alpha=0.7, label=f' z={sol.t[n_mid]:.2f}m ')

    plt.plot(theta_final_ode / (2*np.pi), eta_final_ode / sigma_eta0_rel, '.', markersize=1, color='red', alpha=0.7, label=f' z={drift_length_ode:.2f}m ')
    plt.xlabel(r'$\theta / (2\pi)$')
    plt.ylabel(r'$\eta / \sigma_{\eta0}$')
    plt.title(f'Phase Space Evolution (N_p={N_particles})')
    plt.ylim(-A_mod_over_sigma_eta0 * 2, A_mod_over_sigma_eta0 * 2)
    plt.legend()
    plt.grid(True)


    # 能量展宽演化
    history_sigma_eta_ode = []
    for i_z in range(len(sol.t)):
        if N_particles > 10:
            # WP definition problem still exists
            std_eta_projected = np.std(eta_at_z_eval[:, i_z])
            history_sigma_eta_ode.append(std_eta_projected / sigma_eta0_rel)
        else:
            history_sigma_eta_ode.append(np.nan)

    plt.subplot(2, 1, 2)
    # tau/ (alpha A) 转换 
    # k_p_sq = (e**2 * n0_avg) / (m_e * c**2 * epsilon_0 * gamma_ref**3)
    # if k_p_sq > 0 :
    #     k_p = np.sqrt(k_p_sq)
    #     alpha_paper = (k_laser * sigma_eta0_rel) / (k_p * gamma_ref**2)
    #     tau_axis_ode = k_p * sol.t
    #     scaled_drift_parameter_ode = tau_axis_ode / (alpha_paper * A_mod_over_sigma_eta0)
    #     plt.plot(scaled_drift_parameter_ode, history_sigma_eta_ode, 'o-', label=r'$\sigma_p$ (projected, ODE)')
    #     plt.xlabel(r'$\tau / (\alpha A)$')
    # else:
    plt.plot(sol.t, history_sigma_eta_ode, 'o-', label=r'$\sigma_p$ ')
    plt.xlabel(r'$z $ (Normalized Drift Length)')

    plt.ylabel(r'Projected $\sigma_{\eta} / \sigma_{\eta0,init}$ (Scaled Energy Spread)')
    plt.title('Evolution of Projected Relative Energy Spread ')
    plt.grid(True)
    plt.legend()
    plt.ylim(bottom=0)

    plt.tight_layout()
    plt.show()
    h=20
    

    # 可视化力和密度 (在某个 z 点)
    if len(sol.t) > 2:
        #_z_idx_plot = len(sol.t) // 2  # 中间点
        _z_idx_plot_quarter = len(sol.t) -1
        _z_idx_plot_half = len(sol.t) // 2

        for _z_idx_plot in [_z_idx_plot_quarter,_z_idx_plot_half]:
            _z_plot = sol.t[_z_idx_plot]
            _eta_plot = eta_at_z_eval[:, _z_idx_plot]
            _theta_plot_raw = theta_at_z_eval_raw[:,_z_idx_plot] # 使用原始theta计算Ez，因为bn也是从这里算的
            _theta_plot_mod = theta_at_z_eval[:, _z_idx_plot]


            # 重新计算该点的Ez 
            _bn_array_plot = np.zeros(N_harmonics_Ez)
            for n_h in range(1, N_harmonics_Ez + 1):
                 _bn_array_plot[n_h-1] = np.mean(np.cos(n_h * _theta_plot_raw)) # Use theta used to calculate derivatives

            _sum_terms_plot = np.zeros(N_particles)
            for n_h in range(1, N_harmonics_Ez + 1):
                if _bn_array_plot[n_h-1] != 0 and n_h !=0:
                     _sum_terms_plot += -(_bn_array_plot[n_h-1] / n_h) * np.sin(n_h * _theta_plot_raw)
            _Ez_particles_plot = Ez_const_factor * _sum_terms_plot
            _force_proxy_plot = -e * _Ez_particles_plot

            idx_sort = np.argsort(_theta_plot_mod) # 用 mod 后的 theta 排序绘图
            theta_sorted_plot = _theta_plot_mod[idx_sort]
            force_proxy_sorted_plot = _force_proxy_plot[idx_sort]

            plt.figure(figsize=(8,4))
            hist_density, bin_edges = np.histogram(_theta_plot_mod, bins=500, range=(0, 2*np.pi), density=True)
            bin_centers = (bin_edges[:-1] + bin_edges[1:]) / 2
            plt.plot(bin_centers / (2*np.pi), hist_density, 'b-', label='Particle Density ')
            plt.ylabel('Density', color='b')
            plt.tick_params(axis='y', labelcolor='b')
            plt.twinx()
            plt.plot(theta_sorted_plot / (2*np.pi), force_proxy_sorted_plot, 'g-', label=f'LSC Force Proxy')
            plt.ylabel('LSC Force ', color='g')
            plt.tick_params(axis='y', labelcolor='g')
            plt.xlabel(r'$\theta / (2\pi)$')
            plt.title(f'Density and LSC Force  at z={_z_plot:.3f} m')
            plt.grid(True)
            plt.tight_layout()
            plt.show(block=False)
            plt.pause(0.1)

else:
    print("ODE solution failed:", sol.message)
