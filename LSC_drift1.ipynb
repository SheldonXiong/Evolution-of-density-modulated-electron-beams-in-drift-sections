import numpy as np
from scipy.integrate import solve_ivp
from scipy.constants import e, m_e, c, epsilon_0, pi
import matplotlib.pyplot as plt
from scipy.fft import fft, ifft, fftfreq

# --- 0. 物理和束流参数 ---
N_particles = 15000  # 粒子数
lambda_laser = 266e-9
k_laser = 2 * np.pi / lambda_laser
period_length_s = lambda_laser # 模拟的纵向周期长度 (m)
drift_length_ode = 2 # m (可能需要更短，取决于I_avg_beam强度)
gamma_ref = 1300.0 / 0.511
sigma_eta0_rel = 1e-4
A_mod_over_sigma_eta0 = 10.0
A_mod = A_mod_over_sigma_eta0 * sigma_eta0_rel
B_hghg = 1. / A_mod_over_sigma_eta0
R56 = B_hghg / (k_laser * sigma_eta0_rel)

# 平均束流电流和束流横截面积
I_avg_beam = 1000.0 # 平均电流 (A) - 重要参数！
beam_radius_transverse = 65e-6*1.5 # 束流半径 (m)
beam_area_transverse = pi * beam_radius_transverse**2

# 计算单个宏粒子的电荷
T_laser_period = lambda_laser / c
Q_total_in_one_period = I_avg_beam * T_laser_period
Q_macro = Q_total_in_one_period / N_particles # 单个宏粒子的电荷量 (C)
print(f"Charge per macroparticle: {Q_macro:.3e} C")

rho_avg_beam = I_avg_beam / (c * beam_area_transverse) # 平均电荷密度 C/m^3 (q*n0)


#  离散化网格用于计算电流/电荷密度和场 ---
N_grid_s = 256*2 # 纵向网格点数 (最好是2的幂次方，便于FFT)
ds_grid = period_length_s / N_grid_s
s_grid = np.linspace(0, period_length_s - ds_grid, N_grid_s) # 网格点中心
k_s_grid_fft = fftfreq(N_grid_s, d=ds_grid) * 2 * np.pi # FFT的波数

# --- Step 0 & 1 & 2: 生成初始粒子分布 
# ... (保持不变，得到 eta_init_ode, theta_init_ode) ...
eta0_particles = np.random.normal(0, sigma_eta0_rel, N_particles)
theta0_particles = np.random.uniform(0, 2 * np.pi, N_particles)
eta1_particles = eta0_particles + A_mod * np.sin(theta0_particles)
theta1_particles = theta0_particles
eta_init_ode = eta1_particles
s_init_ode_raw = (theta1_particles / k_laser) + (R56 * eta1_particles) # 得到绝对s
s_init_ode = np.mod(s_init_ode_raw, period_length_s) # 转换到0-L_period
# 对应于 s_init_ode 的 theta
theta_init_ode = s_init_ode * k_laser # 应该与之前theta_init_ode % (2*pi)一致

Y0 = np.zeros(2 * N_particles)
Y0[0::2] = eta_init_ode
Y0[1::2] = s_init_ode 

# --- 定义 ODE 函数 dY/dz = F(z, Y) (Y包含 eta 和 s) ---
gamma_ref_sq = gamma_ref**2
eta_change_factor_ode = -1.0 / (gamma_ref * m_e * c**2) # q 在rho中
s_change_factor_ode = 1.0 / gamma_ref_sq

def collective_ode_fft(z, Y):
    dYdz = np.zeros_like(Y)
    current_eta = Y[0::2]
    current_s_raw = Y[1::2] # s 可以超出 [0, period_length_s]
    current_s_mod = np.mod(current_s_raw, period_length_s) # 用于binning

    # 1. 计算电荷密度 rho(s_j)
    rho_s = np.zeros(N_grid_s)
    # 使用 np.histogram 来快速分箱
    # Q_macro 是正的，所以电子用-Q_macro
    counts, _ = np.histogram(current_s_mod, bins=N_grid_s, range=(0, period_length_s))
    rho_s = (-Q_macro) * counts / (ds_grid * beam_area_transverse) # C / m^3

    # 计算交流电荷密度
    rho_ac_s = rho_s - np.mean(rho_s) # np.mean(rho_s) 

    # 2. 使用FFT计算 Ez(s_j)
    rho_ac_fft = fft(rho_ac_s)
    Ez_fft = np.zeros_like(rho_ac_fft, dtype=complex)

    # ik_n 项在分母，所以对于 k_n != 0, Ez_fft[k_n] = rho_ac_fft[k_n] / (1j * k_s_grid_fft * epsilon_0)
    # k_s_grid_fft[0] 是直流 (k=0)
    # k_s_grid_fft 是 fftfreq 的输出，可能不是严格按频率大小排序的
    # fftfreq 的顺序: [0, 1, ...,   N/2-1, -N/2, ..., -1] * (Fs/N)
    # k_n != 0
    non_zero_k_indices = np.where(k_s_grid_fft != 0)[0]
    Ez_fft[non_zero_k_indices] = rho_ac_fft[non_zero_k_indices] / (1j * k_s_grid_fft[non_zero_k_indices] * epsilon_0)
    Ez_fft[np.where(k_s_grid_fft == 0)[0]] = 0.0 

    Ez_s_grid = ifft(Ez_fft).real # Ez 应该是实数

    
    # Particle position s_i may not be exactly on the grid.
    # current_s_mod is in [0, period_length_s)
    # Find grid index for each particle
    particle_grid_indices = np.floor(current_s_mod / ds_grid).astype(int)
    particle_grid_indices = np.clip(particle_grid_indices, 0, N_grid_s - 1) # Ensure within bounds
    Ez_particles_interp = -Ez_s_grid[particle_grid_indices]
    # 更高级的插值：np.interp(current_s_mod, s_grid, Ez_s_grid, period=period_length_s)

    # 计算导数 (注意这里的q_particle 已经包含在Ez的推导里了, 或者说 Q_macro)
    # Force F_z = q_electron * Ez = -e * Ez
    # d(gamma mc^2)/dz = F_z => mc^2 dgamma/dz = F_z => d_eta/dz = F_z / (gamma_ref mc^2)
    # F_z is for one *real* electron. Our Ez is from *macroparticle* charge Q_macro.
    # The field Ez_s_grid is the field. Force on an electron is (-e) * Ez_s_grid.
    dYdz[0::2] = (-e) * Ez_particles_interp * eta_change_factor_ode  # d(eta_i)/dz
    dYdz[1::2] = s_change_factor_ode * current_eta             # d(s_i)/dz

    return dYdz

# --- 漂移段模拟参数 
# drift_length_ode = 5 # m (可能需要更短，取决于I_avg_beam强度)
z_span = (0, drift_length_ode)
# z_eval = np.linspace(z_span[0], z_span[1], 100)
z_eval = np.linspace(z_span[0], z_span[1], 1000) # Fewer for speed

print(f"Starting ODE solution (FFT field) for {N_particles} particles...")
sol = solve_ivp(collective_ode_fft, z_span, Y0, method='RK45', t_eval=z_eval, rtol=1e-3, atol=1e-6)
print("ODE solution (FFT field) finished.")

# 
if sol.success:
    eta_at_z_eval = sol.y[0::2, :]
    s_at_z_eval_raw = sol.y[1::2, :]
    s_at_z_eval_mod = np.mod(s_at_z_eval_raw, period_length_s) # 用于绘图
    theta_at_z_eval_mod = s_at_z_eval_mod * k_laser

    # 可视化初始和最终相空间
    eta_final_ode_fft = eta_at_z_eval[:, -1]
    theta_final_ode_fft = theta_at_z_eval_mod[:, -1]

    plt.figure(figsize=(4, 8))
    plt.subplot(2, 1, 1)
    plt.plot(theta_init_ode / (2*np.pi), eta_init_ode / sigma_eta0_rel, '.', markersize=1, color='blue', alpha=0.7, label='Initial ')
    plt.plot(theta_final_ode_fft / (2*np.pi), eta_final_ode_fft / sigma_eta0_rel, '.', markersize=1, color='red', alpha=0.7, label=f'Final z={drift_length_ode:.2f}m ')
    plt.xlabel(r'$\theta / (2\pi)$')
    plt.ylabel(r'$\eta / \sigma_{\eta0}$')
    plt.title(f'Phase Space Evolution  N_p={N_particles}')
    plt.ylim(-A_mod_over_sigma_eta0 *2, A_mod_over_sigma_eta0 *2)
    plt.legend()
    plt.grid(True)

    #  
    history_sigma_eta_ode_fft = []
    for i_z in range(len(sol.t)):
        if N_particles > 10:
            std_eta_projected = np.std(eta_at_z_eval[:, i_z])
            history_sigma_eta_ode_fft.append(std_eta_projected / sigma_eta0_rel)
        else:
            history_sigma_eta_ode_fft.append(np.nan)
    plt.subplot(2, 1, 2)
    plt.plot(sol.t / drift_length_ode, history_sigma_eta_ode_fft, 'o-', label=r'$\sigma_p$ ')
    plt.xlabel(r'$z / L_{drift}$ (Normalized Drift Length)')
    plt.ylabel(r'Projected $\sigma_{\eta} / \sigma_{\eta0,init}$')
    plt.title('Evolution of Projected Relative Energy Spread')
    plt.grid(True)
    plt.legend()
    plt.ylim(bottom=0)

    plt.tight_layout()
    plt.show()

    
    if len(sol.t) > 2:
        #_z_idx_plot = len(sol.t) // 2
        _z_idx_plot_quarter = len(sol.t) -1
        _z_idx_plot_half = len(sol.t) // 2

        for _z_idx_plot in [_z_idx_plot_quarter, _z_idx_plot_half]:
            _z_plot_fft = sol.t[_z_idx_plot]
            _s_plot_raw_fft = s_at_z_eval_raw[:, _z_idx_plot]
            _s_plot_mod_fft = s_at_z_eval_mod[:, _z_idx_plot]

            _counts_plot, _ = np.histogram(_s_plot_mod_fft, bins=N_grid_s, range=(0, period_length_s))
            _rho_s_plot = (-Q_macro) * _counts_plot / (ds_grid * beam_area_transverse)
            _current_s_plot = (-Q_macro) * _counts_plot * c / ds_grid # A
            _rho_ac_s_plot = _rho_s_plot #- np.mean(_rho_s_plot)

            _rho_ac_fft_plot = fft(_rho_ac_s_plot)
            _Ez_fft_plot = np.zeros_like(_rho_ac_fft_plot, dtype=complex)
            _non_zero_k_idx_plot = np.where(k_s_grid_fft != 0)[0]
            _Ez_fft_plot[_non_zero_k_idx_plot] = _rho_ac_fft_plot[_non_zero_k_idx_plot] / (1j * k_s_grid_fft[_non_zero_k_idx_plot] * epsilon_0)
            _Ez_s_grid_plot = ifft(_Ez_fft_plot).real
            _force_on_electron_grid_plot = -e * _Ez_s_grid_plot

            plt.figure(figsize=(7,4))
            # 左轴：电流密度
            theta_grid_plot = s_grid * k_laser
            plt.plot(theta_grid_plot / (2*pi), -_current_s_plot, 'b-', label='Current Density I(s)')
            plt.ylabel('Current (A)', color='b')
            plt.tick_params(axis='y', labelcolor='b')
            plt.twinx()
            # 右轴：电场力
            plt.plot(theta_grid_plot / (2*pi), _force_on_electron_grid_plot, 'g-', label='LSC Force $F_z(s)$ on electron')
            plt.ylabel('Force (N)', color='g')
            plt.tick_params(axis='y', labelcolor='g')
            plt.xlabel(r'$\theta / (2\pi)$')
            plt.title(f'Current Density and LSC Force  at z={_z_plot_fft:.3f} m')
            plt.grid(True)
            #plt.legend() 
            plt.tight_layout()
            plt.show(block=False)
            plt.pause(0.1)
else:
    print("ODE solution (FFT field) failed:", sol.message)
